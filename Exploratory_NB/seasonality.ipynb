{
 "cells": [
  {
   "cell_type": "code",
   "execution_count": null,
   "metadata": {},
   "outputs": [],
   "source": [
    "#hide\n",
    "%load_ext autoreload\n",
    "%autoreload 2"
   ]
  },
  {
   "cell_type": "code",
   "execution_count": 1,
   "metadata": {},
   "outputs": [
    {
     "name": "stdout",
     "output_type": "stream",
     "text": [
      "Collecting pybats\n",
      "  Downloading pybats-0.0.5-py3-none-any.whl (528 kB)\n",
      "\u001b[2K     \u001b[90m━━━━━━━━━━━━━━━━━━━━━━━━━━━━━━━━━━━━━━━\u001b[0m \u001b[32m529.0/529.0 kB\u001b[0m \u001b[31m4.8 MB/s\u001b[0m eta \u001b[36m0:00:00\u001b[0ma \u001b[36m0:00:01\u001b[0m\n",
      "\u001b[?25hRequirement already satisfied: scipy in /Users/aifora/.pyenv/versions/3.10.13/lib/python3.10/site-packages (from pybats) (1.9.1)\n",
      "Requirement already satisfied: seaborn in /Users/aifora/.pyenv/versions/3.10.13/lib/python3.10/site-packages (from pybats) (0.13.2)\n",
      "Requirement already satisfied: pandas in /Users/aifora/.pyenv/versions/3.10.13/lib/python3.10/site-packages (from pybats) (2.2.2)\n",
      "Requirement already satisfied: matplotlib in /Users/aifora/.pyenv/versions/3.10.13/lib/python3.10/site-packages (from pybats) (3.9.1)\n",
      "Requirement already satisfied: numpy in /Users/aifora/.pyenv/versions/3.10.13/lib/python3.10/site-packages (from pybats) (1.24.4)\n",
      "Collecting nbdev\n",
      "  Downloading nbdev-2.3.31-py3-none-any.whl (67 kB)\n",
      "\u001b[2K     \u001b[90m━━━━━━━━━━━━━━━━━━━━━━━━━━━━━━━━━━━━━━━━\u001b[0m \u001b[32m67.4/67.4 kB\u001b[0m \u001b[31m7.9 MB/s\u001b[0m eta \u001b[36m0:00:00\u001b[0m\n",
      "\u001b[?25hRequirement already satisfied: statsmodels in /Users/aifora/.pyenv/versions/3.10.13/lib/python3.10/site-packages (from pybats) (0.14.2)\n",
      "Requirement already satisfied: pillow>=8 in /Users/aifora/.pyenv/versions/3.10.13/lib/python3.10/site-packages (from matplotlib->pybats) (10.3.0)\n",
      "Requirement already satisfied: fonttools>=4.22.0 in /Users/aifora/.pyenv/versions/3.10.13/lib/python3.10/site-packages (from matplotlib->pybats) (4.53.0)\n",
      "Requirement already satisfied: python-dateutil>=2.7 in /Users/aifora/.pyenv/versions/3.10.13/lib/python3.10/site-packages (from matplotlib->pybats) (2.9.0.post0)\n",
      "Requirement already satisfied: cycler>=0.10 in /Users/aifora/.pyenv/versions/3.10.13/lib/python3.10/site-packages (from matplotlib->pybats) (0.12.1)\n",
      "Requirement already satisfied: contourpy>=1.0.1 in /Users/aifora/.pyenv/versions/3.10.13/lib/python3.10/site-packages (from matplotlib->pybats) (1.2.1)\n",
      "Requirement already satisfied: packaging>=20.0 in /Users/aifora/.pyenv/versions/3.10.13/lib/python3.10/site-packages (from matplotlib->pybats) (24.1)\n",
      "Requirement already satisfied: kiwisolver>=1.3.1 in /Users/aifora/.pyenv/versions/3.10.13/lib/python3.10/site-packages (from matplotlib->pybats) (1.4.5)\n",
      "Requirement already satisfied: pyparsing>=2.3.1 in /Users/aifora/.pyenv/versions/3.10.13/lib/python3.10/site-packages (from matplotlib->pybats) (3.1.2)\n",
      "Collecting fastcore>=1.5.27\n",
      "  Downloading fastcore-1.7.12-py3-none-any.whl (80 kB)\n",
      "\u001b[2K     \u001b[90m━━━━━━━━━━━━━━━━━━━━━━━━━━━━━━━━━━━━━━━━\u001b[0m \u001b[32m80.2/80.2 kB\u001b[0m \u001b[31m9.5 MB/s\u001b[0m eta \u001b[36m0:00:00\u001b[0m\n",
      "\u001b[?25hCollecting watchdog\n",
      "  Downloading watchdog-5.0.3-cp310-cp310-macosx_11_0_arm64.whl (89 kB)\n",
      "\u001b[2K     \u001b[90m━━━━━━━━━━━━━━━━━━━━━━━━━━━━━━━━━━━━━━━━\u001b[0m \u001b[32m89.3/89.3 kB\u001b[0m \u001b[31m9.6 MB/s\u001b[0m eta \u001b[36m0:00:00\u001b[0m\n",
      "\u001b[?25hCollecting ghapi>=1.0.3\n",
      "  Downloading ghapi-1.0.6-py3-none-any.whl (62 kB)\n",
      "\u001b[2K     \u001b[90m━━━━━━━━━━━━━━━━━━━━━━━━━━━━━━━━━━━━━━━━\u001b[0m \u001b[32m62.4/62.4 kB\u001b[0m \u001b[31m6.3 MB/s\u001b[0m eta \u001b[36m0:00:00\u001b[0m\n",
      "\u001b[?25hRequirement already satisfied: asttokens in /Users/aifora/.pyenv/versions/3.10.13/lib/python3.10/site-packages (from nbdev->pybats) (2.4.1)\n",
      "Collecting astunparse\n",
      "  Downloading astunparse-1.6.3-py2.py3-none-any.whl (12 kB)\n",
      "Requirement already satisfied: PyYAML in /Users/aifora/.pyenv/versions/3.10.13/lib/python3.10/site-packages (from nbdev->pybats) (6.0.1)\n",
      "Collecting execnb>=0.1.4\n",
      "  Downloading execnb-0.1.6-py3-none-any.whl (14 kB)\n",
      "Requirement already satisfied: pytz>=2020.1 in /Users/aifora/.pyenv/versions/3.10.13/lib/python3.10/site-packages (from pandas->pybats) (2024.1)\n",
      "Requirement already satisfied: tzdata>=2022.7 in /Users/aifora/.pyenv/versions/3.10.13/lib/python3.10/site-packages (from pandas->pybats) (2024.1)\n",
      "Requirement already satisfied: patsy>=0.5.6 in /Users/aifora/.pyenv/versions/3.10.13/lib/python3.10/site-packages (from statsmodels->pybats) (0.5.6)\n",
      "Requirement already satisfied: ipython in /Users/aifora/.pyenv/versions/3.10.13/lib/python3.10/site-packages (from execnb>=0.1.4->nbdev->pybats) (8.23.0)\n",
      "Requirement already satisfied: six in /Users/aifora/.pyenv/versions/3.10.13/lib/python3.10/site-packages (from patsy>=0.5.6->statsmodels->pybats) (1.16.0)\n",
      "Requirement already satisfied: wheel<1.0,>=0.23.0 in /Users/aifora/.pyenv/versions/3.10.13/lib/python3.10/site-packages (from astunparse->nbdev->pybats) (0.43.0)\n",
      "Requirement already satisfied: pexpect>4.3 in /Users/aifora/.pyenv/versions/3.10.13/lib/python3.10/site-packages (from ipython->execnb>=0.1.4->nbdev->pybats) (4.9.0)\n",
      "Requirement already satisfied: traitlets>=5.13.0 in /Users/aifora/.pyenv/versions/3.10.13/lib/python3.10/site-packages (from ipython->execnb>=0.1.4->nbdev->pybats) (5.14.2)\n",
      "Requirement already satisfied: jedi>=0.16 in /Users/aifora/.pyenv/versions/3.10.13/lib/python3.10/site-packages (from ipython->execnb>=0.1.4->nbdev->pybats) (0.19.1)\n",
      "Requirement already satisfied: stack-data in /Users/aifora/.pyenv/versions/3.10.13/lib/python3.10/site-packages (from ipython->execnb>=0.1.4->nbdev->pybats) (0.6.3)\n",
      "Requirement already satisfied: decorator in /Users/aifora/.pyenv/versions/3.10.13/lib/python3.10/site-packages (from ipython->execnb>=0.1.4->nbdev->pybats) (5.1.1)\n",
      "Requirement already satisfied: typing-extensions in /Users/aifora/.pyenv/versions/3.10.13/lib/python3.10/site-packages (from ipython->execnb>=0.1.4->nbdev->pybats) (4.12.2)\n",
      "Requirement already satisfied: prompt-toolkit<3.1.0,>=3.0.41 in /Users/aifora/.pyenv/versions/3.10.13/lib/python3.10/site-packages (from ipython->execnb>=0.1.4->nbdev->pybats) (3.0.43)\n",
      "Requirement already satisfied: matplotlib-inline in /Users/aifora/.pyenv/versions/3.10.13/lib/python3.10/site-packages (from ipython->execnb>=0.1.4->nbdev->pybats) (0.1.6)\n",
      "Requirement already satisfied: pygments>=2.4.0 in /Users/aifora/.pyenv/versions/3.10.13/lib/python3.10/site-packages (from ipython->execnb>=0.1.4->nbdev->pybats) (2.17.2)\n",
      "Requirement already satisfied: exceptiongroup in /Users/aifora/.pyenv/versions/3.10.13/lib/python3.10/site-packages (from ipython->execnb>=0.1.4->nbdev->pybats) (1.2.0)\n",
      "Requirement already satisfied: parso<0.9.0,>=0.8.3 in /Users/aifora/.pyenv/versions/3.10.13/lib/python3.10/site-packages (from jedi>=0.16->ipython->execnb>=0.1.4->nbdev->pybats) (0.8.4)\n",
      "Requirement already satisfied: ptyprocess>=0.5 in /Users/aifora/.pyenv/versions/3.10.13/lib/python3.10/site-packages (from pexpect>4.3->ipython->execnb>=0.1.4->nbdev->pybats) (0.7.0)\n",
      "Requirement already satisfied: wcwidth in /Users/aifora/.pyenv/versions/3.10.13/lib/python3.10/site-packages (from prompt-toolkit<3.1.0,>=3.0.41->ipython->execnb>=0.1.4->nbdev->pybats) (0.2.13)\n",
      "Requirement already satisfied: pure-eval in /Users/aifora/.pyenv/versions/3.10.13/lib/python3.10/site-packages (from stack-data->ipython->execnb>=0.1.4->nbdev->pybats) (0.2.2)\n",
      "Requirement already satisfied: executing>=1.2.0 in /Users/aifora/.pyenv/versions/3.10.13/lib/python3.10/site-packages (from stack-data->ipython->execnb>=0.1.4->nbdev->pybats) (2.0.1)\n",
      "Installing collected packages: watchdog, fastcore, astunparse, ghapi, execnb, nbdev, pybats\n",
      "Successfully installed astunparse-1.6.3 execnb-0.1.6 fastcore-1.7.12 ghapi-1.0.6 nbdev-2.3.31 pybats-0.0.5 watchdog-5.0.3\n",
      "\n",
      "\u001b[1m[\u001b[0m\u001b[34;49mnotice\u001b[0m\u001b[1;39;49m]\u001b[0m\u001b[39;49m A new release of pip is available: \u001b[0m\u001b[31;49m23.0.1\u001b[0m\u001b[39;49m -> \u001b[0m\u001b[32;49m24.2\u001b[0m\n",
      "\u001b[1m[\u001b[0m\u001b[34;49mnotice\u001b[0m\u001b[1;39;49m]\u001b[0m\u001b[39;49m To update, run: \u001b[0m\u001b[32;49mpip install --upgrade pip\u001b[0m\n",
      "Note: you may need to restart the kernel to use updated packages.\n"
     ]
    }
   ],
   "source": [
    "%pip install pybats"
   ]
  },
  {
   "cell_type": "code",
   "execution_count": null,
   "metadata": {},
   "outputs": [],
   "source": [
    "# default_exp seasonal"
   ]
  },
  {
   "cell_type": "markdown",
   "metadata": {},
   "source": [
    "# Seasonal Components\n",
    "\n",
    "> This module contains functions to define the seasonal components in a DGLM. These are *harmonic* seasonal components, meaning they are defined by sine and cosine functions with a specific period. For example, when working with daily time series we often use a weekly seasonal effect of period 7 or an annual seasonal effect of period 365."
   ]
  },
  {
   "cell_type": "code",
   "execution_count": 2,
   "metadata": {},
   "outputs": [],
   "source": [
    "#hide\n",
    "#exporti\n",
    "import numpy as np\n",
    "from pybats.forecast import forecast_aR, forecast_R_cov"
   ]
  },
  {
   "cell_type": "markdown",
   "metadata": {},
   "source": [
    "## Seasonal Components for a DGLM"
   ]
  },
  {
   "cell_type": "code",
   "execution_count": 3,
   "metadata": {},
   "outputs": [],
   "source": [
    "#export\n",
    "def seascomp(period, harmComponents):\n",
    "    p = len(harmComponents)\n",
    "    n = 2*p\n",
    "    F = np.zeros([n, 1])\n",
    "    F[0:n:2] = 1\n",
    "    G = np.zeros([n, n])\n",
    "\n",
    "    for j in range(p):\n",
    "        c = np.cos(2*np.pi*harmComponents[j]/period)\n",
    "        s = np.sin(2*np.pi*harmComponents[j]/period)\n",
    "        idx = 2*j\n",
    "        G[idx:(idx+2), idx:(idx+2)] = np.array([[c, s],[-s, c]])\n",
    "\n",
    "    return [F, G]"
   ]
  },
  {
   "cell_type": "markdown",
   "metadata": {},
   "source": [
    "This function is called from `dglm.__init__` to define the seasonal components."
   ]
  },
  {
   "cell_type": "code",
   "execution_count": 4,
   "metadata": {},
   "outputs": [],
   "source": [
    "#exporti\n",
    "def createFourierToSeasonalL(period, harmComponents, Fseas, Gseas):\n",
    "    p = len(harmComponents)\n",
    "    L = np.zeros([period, 2*p])\n",
    "    L[0,:] = Fseas.reshape(-1)\n",
    "    for i in range(1, period):\n",
    "        L[i,:] = L[i-1,:] @ Gseas\n",
    "\n",
    "    return L"
   ]
  },
  {
   "cell_type": "code",
   "execution_count": 5,
   "metadata": {},
   "outputs": [],
   "source": [
    "#export\n",
    "def fourierToSeasonal(mod, comp=0):\n",
    "    phi = mod.L[comp] @ mod.m[mod.iseas[comp]]\n",
    "    var = mod.L[comp] @ mod.C[np.ix_(mod.iseas[comp], mod.iseas[comp])] @ mod.L[comp].T\n",
    "    return phi, var"
   ]
  },
  {
   "cell_type": "markdown",
   "metadata": {},
   "source": [
    "This function transforms the seasonal component of a model from fourier form into more interpretable seasonal components. For example, if `seasPeriods = [7]`, then this would return a vector of length $7$, with each of the seasonal effects.\n",
    "\n",
    "A simple use case is given below. For a more detailed use of this function, see the following [example](https://github.com/lavinei/pybats_nbdev/blob/master/examples/Poisson_DGLM_In_Depth_Example.ipynb)."
   ]
  },
  {
   "cell_type": "code",
   "execution_count": 6,
   "metadata": {},
   "outputs": [],
   "source": [
    "import numpy as np\n",
    "import pandas as pd\n",
    "from pybats.analysis import analysis\n",
    "from pybats.shared import load_sales_example2\n",
    "\n",
    "data = load_sales_example2()\n",
    "\n",
    "prior_length = 21   # Number of days of data used to set prior\n",
    "\n",
    "mod = analysis(data.Sales.values, data[['Price', 'Promotion']].values, k=1,\n",
    "               family='poisson',\n",
    "               seasPeriods=[7], seasHarmComponents=[[1,2,3]],\n",
    "               prior_length=prior_length, dates=data.index,\n",
    "               ret = ['model'])"
   ]
  },
  {
   "cell_type": "code",
   "execution_count": 7,
   "metadata": {},
   "outputs": [
    {
     "data": {
      "text/html": [
       "<div>\n",
       "<style scoped>\n",
       "    .dataframe tbody tr th:only-of-type {\n",
       "        vertical-align: middle;\n",
       "    }\n",
       "\n",
       "    .dataframe tbody tr th {\n",
       "        vertical-align: top;\n",
       "    }\n",
       "\n",
       "    .dataframe thead th {\n",
       "        text-align: right;\n",
       "    }\n",
       "</style>\n",
       "<table border=\"1\" class=\"dataframe\">\n",
       "  <thead>\n",
       "    <tr style=\"text-align: right;\">\n",
       "      <th></th>\n",
       "      <th>Day</th>\n",
       "      <th>Effect Mean</th>\n",
       "    </tr>\n",
       "  </thead>\n",
       "  <tbody>\n",
       "    <tr>\n",
       "      <th>0</th>\n",
       "      <td>Friday</td>\n",
       "      <td>1.002880</td>\n",
       "    </tr>\n",
       "    <tr>\n",
       "      <th>1</th>\n",
       "      <td>Saturday</td>\n",
       "      <td>1.349696</td>\n",
       "    </tr>\n",
       "    <tr>\n",
       "      <th>2</th>\n",
       "      <td>Sunday</td>\n",
       "      <td>1.325227</td>\n",
       "    </tr>\n",
       "    <tr>\n",
       "      <th>3</th>\n",
       "      <td>Monday</td>\n",
       "      <td>0.886239</td>\n",
       "    </tr>\n",
       "    <tr>\n",
       "      <th>4</th>\n",
       "      <td>Tuesday</td>\n",
       "      <td>0.837136</td>\n",
       "    </tr>\n",
       "    <tr>\n",
       "      <th>5</th>\n",
       "      <td>Wednesday</td>\n",
       "      <td>0.882167</td>\n",
       "    </tr>\n",
       "    <tr>\n",
       "      <th>6</th>\n",
       "      <td>Thursday</td>\n",
       "      <td>0.851780</td>\n",
       "    </tr>\n",
       "  </tbody>\n",
       "</table>\n",
       "</div>"
      ],
      "text/plain": [
       "         Day  Effect Mean\n",
       "0     Friday     1.002880\n",
       "1   Saturday     1.349696\n",
       "2     Sunday     1.325227\n",
       "3     Monday     0.886239\n",
       "4    Tuesday     0.837136\n",
       "5  Wednesday     0.882167\n",
       "6   Thursday     0.851780"
      ]
     },
     "execution_count": 7,
     "metadata": {},
     "output_type": "execute_result"
    }
   ],
   "source": [
    "seas_mean, seas_cov = fourierToSeasonal(mod)\n",
    "\n",
    "days = ['Monday', 'Tuesday', 'Wednesday', 'Thursday', 'Friday', 'Saturday', 'Sunday']\n",
    "lastday = data.index[-1]\n",
    "\n",
    "days = [*days[lastday.isoweekday()-1:], *days[:lastday.isoweekday()-1]]\n",
    "\n",
    "seas_eff = pd.DataFrame({'Day':days,\n",
    "                         'Effect Mean':np.exp(seas_mean.reshape(-1))})\n",
    "seas_eff"
   ]
  },
  {
   "cell_type": "code",
   "execution_count": 8,
   "metadata": {},
   "outputs": [],
   "source": [
    "#exporti\n",
    "def fourierToSeasonalFxnl(L, m, C, iseas):\n",
    "    phi = L @ m[iseas]\n",
    "    var = L @ C[np.ix_(iseas, iseas)] @ L.T\n",
    "    return phi, var"
   ]
  },
  {
   "cell_type": "code",
   "execution_count": 9,
   "metadata": {},
   "outputs": [],
   "source": [
    "#exporti\n",
    "def get_seasonal_effect_fxnl(L, m, C, iseas):\n",
    "    phi, var = fourierToSeasonalFxnl(L, m, C, iseas)\n",
    "    return phi[0], var[0, 0]"
   ]
  },
  {
   "cell_type": "code",
   "execution_count": 10,
   "metadata": {},
   "outputs": [],
   "source": [
    "#exporti\n",
    "def sample_seasonal_effect_fxnl(L, m, C, iseas, delVar, n, nsamps):\n",
    "    phi_samps = np.zeros([nsamps])\n",
    "    phi, var = fourierToSeasonalFxnl(L, m, C, iseas)\n",
    "    phi_samps[:] = phi[0] + np.sqrt(var[0,0])*np.random.standard_t(delVar*n, size = [nsamps])\n",
    "    return phi_samps"
   ]
  },
  {
   "cell_type": "code",
   "execution_count": 11,
   "metadata": {},
   "outputs": [],
   "source": [
    "#exporti\n",
    "def forecast_weekly_seasonal_factor(mod, k, sample = False, nsamps = 1):\n",
    "    a, R = forecast_aR(mod, k)\n",
    "\n",
    "    idx = np.where(np.array(mod.seasPeriods) == 7)[0][0]\n",
    "\n",
    "    if sample:\n",
    "        return sample_seasonal_effect_fxnl(mod.L[idx], a, R, mod.iseas[idx], mod.delVar, mod.n, nsamps)\n",
    "    else:\n",
    "        return get_seasonal_effect_fxnl(mod.L[idx], a, R, mod.iseas[idx])"
   ]
  },
  {
   "cell_type": "code",
   "execution_count": 12,
   "metadata": {},
   "outputs": [],
   "source": [
    "#exporti\n",
    "def forecast_path_weekly_seasonal_factor(mod, k, today, period):\n",
    "    phi_mu = [np.zeros([period]) for h in range(k)]\n",
    "    phi_sigma = [np.zeros([period, period]) for h in range(k)]\n",
    "    phi_psi = [np.zeros([period, period, h]) for h in range(1, k)]\n",
    "\n",
    "    idx = np.where(np.array(mod.seasPeriods) == 7)[0][0]\n",
    "    L = mod.L[idx]\n",
    "    iseas = mod.iseas[idx]\n",
    "\n",
    "    for h in range(k):\n",
    "\n",
    "        # Get the marginal a, R\n",
    "        a, R = forecast_aR(mod, h + 1)\n",
    "\n",
    "        m, v = get_seasonal_effect_fxnl(L, a, R, iseas)\n",
    "        day = (today + h) % period\n",
    "        phi_mu[h][day] = m\n",
    "        phi_sigma[h][day, day] = v\n",
    "        # phi_mu[h], phi_sigma[h] = get_latent_factor_fxnl_old((today + h) % period, mod.L, a, R, mod.iseas, mod.seasPeriods[0])\n",
    "\n",
    "        # Find covariances with previous latent factor values\n",
    "        for j in range(h):\n",
    "            # Covariance matrix between the state vector at times j, i, i > j\n",
    "            day_j = (today + j) % period\n",
    "            cov_jh = forecast_R_cov(mod, j, h)[np.ix_(iseas, iseas)]\n",
    "            phi_psi[h-1][day, day_j, j] = phi_psi[h-1][day_j, day, j] = (L @ cov_jh @ L.T)[day, day_j]\n",
    "            # cov_ij = (np.linalg.matrix_power(mod.G, h-j) @ Rlist[j])[np.ix_(mod.iseas, mod.iseas)]\n",
    "\n",
    "    return phi_mu, phi_sigma, phi_psi"
   ]
  }
 ],
 "metadata": {
  "kernelspec": {
   "display_name": "Python 3",
   "language": "python",
   "name": "python3"
  },
  "language_info": {
   "codemirror_mode": {
    "name": "ipython",
    "version": 3
   },
   "file_extension": ".py",
   "mimetype": "text/x-python",
   "name": "python",
   "nbconvert_exporter": "python",
   "pygments_lexer": "ipython3",
   "version": "3.10.13"
  }
 },
 "nbformat": 4,
 "nbformat_minor": 4
}
